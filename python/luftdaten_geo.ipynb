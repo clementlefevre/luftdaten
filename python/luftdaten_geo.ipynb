{
 "cells": [
  {
   "cell_type": "markdown",
   "metadata": {},
   "source": [
    "This script retrieves the list of luftdaten sensors that are currently delivering data.\n",
    "It then filter the sensors list on a fiven boundary (bbox) and store the list into an sqlite database."
   ]
  },
  {
   "cell_type": "code",
   "execution_count": 10,
   "metadata": {},
   "outputs": [],
   "source": [
    "import pandas as pd\n",
    "import requests\n",
    "import config\n",
    "import sqlalchemy"
   ]
  },
  {
   "cell_type": "code",
   "execution_count": 2,
   "metadata": {},
   "outputs": [],
   "source": [
    "engine = sqlalchemy.create_engine(f\"sqlite:///{config.DB_PATH}\")"
   ]
  },
  {
   "cell_type": "code",
   "execution_count": 11,
   "metadata": {},
   "outputs": [],
   "source": [
    "# all currently active sensors on lufdaten with location,sensor type:\n",
    "URL_24h =  \"https://maps.luftdaten.info/data/v2/data.24h.json\""
   ]
  },
  {
   "cell_type": "code",
   "execution_count": 12,
   "metadata": {},
   "outputs": [],
   "source": [
    "r = requests.get(URL_24h).json()\n",
    "df = pd.DataFrame(r)\n",
    "df_geo_location=df.location.apply(pd.Series).add_prefix('location_')\n",
    "df = pd.concat([df,df_geo_location],axis=1)"
   ]
  },
  {
   "cell_type": "code",
   "execution_count": null,
   "metadata": {},
   "outputs": [],
   "source": []
  },
  {
   "cell_type": "code",
   "execution_count": 13,
   "metadata": {},
   "outputs": [],
   "source": [
    "df_sensor_type = df.sensor.apply(pd.Series).sensor_type.apply(pd.Series).add_prefix('sensor_type_')\n",
    "df_sensor_id = df.sensor.apply(pd.Series)[['id']].add_prefix('sensor_')"
   ]
  },
  {
   "cell_type": "code",
   "execution_count": 14,
   "metadata": {},
   "outputs": [],
   "source": [
    "df = pd.concat([df,df_sensor_id,df_sensor_type],axis=1)"
   ]
  },
  {
   "cell_type": "code",
   "execution_count": 15,
   "metadata": {},
   "outputs": [],
   "source": [
    "df.drop(['location','sensor','sensordatavalues','id','sampling_rate','timestamp'],axis=1,inplace=True)"
   ]
  },
  {
   "cell_type": "code",
   "execution_count": 8,
   "metadata": {},
   "outputs": [],
   "source": [
    "df.to_sql(name='sensors_luftdaten', con=engine,if_exists='replace')"
   ]
  },
  {
   "cell_type": "code",
   "execution_count": 9,
   "metadata": {},
   "outputs": [
    {
     "data": {
      "text/plain": [
       "array(['SDS011', 'PPD42NS', 'DHT22', 'BME280', 'HTU21D', 'BMP180',\n",
       "       'SDS021', 'PMS7003', 'HPM', 'DS18B20', 'BMP280', 'PMS5003',\n",
       "       'DS18S20', 'SHT31', 'PMS1003', 'PMS3003', 'Laerm'], dtype=object)"
      ]
     },
     "execution_count": 9,
     "metadata": {},
     "output_type": "execute_result"
    }
   ],
   "source": [
    "df.sensor_type_name.unique()"
   ]
  }
 ],
 "metadata": {
  "kernelspec": {
   "display_name": "Python 3",
   "language": "python",
   "name": "python3"
  },
  "language_info": {
   "codemirror_mode": {
    "name": "ipython",
    "version": 3
   },
   "file_extension": ".py",
   "mimetype": "text/x-python",
   "name": "python",
   "nbconvert_exporter": "python",
   "pygments_lexer": "ipython3",
   "version": "3.7.1"
  }
 },
 "nbformat": 4,
 "nbformat_minor": 2
}
