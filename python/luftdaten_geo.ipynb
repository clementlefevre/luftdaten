{
 "cells": [
  {
   "cell_type": "markdown",
   "metadata": {},
   "source": [
    "This script retrieves the list of luftdaten sensors that are currently delivering data.\n",
    "It then filter the sensors list on a fiven boundary (bbox) and store the list into an sqlite database."
   ]
  },
  {
   "cell_type": "code",
   "execution_count": 1,
   "metadata": {},
   "outputs": [],
   "source": [
    "import pandas as pd\n",
    "import requests\n",
    "import config\n",
    "import sqlalchemy"
   ]
  },
  {
   "cell_type": "code",
   "execution_count": 2,
   "metadata": {},
   "outputs": [],
   "source": [
    "engine = sqlalchemy.create_engine(f\"sqlite:///{config.DB_PATH}\")"
   ]
  },
  {
   "cell_type": "code",
   "execution_count": 3,
   "metadata": {},
   "outputs": [],
   "source": [
    "# all currently active sensors on lufdaten with location,sensor type:\n",
    "URL_24h =  \"https://maps.luftdaten.info/data/v2/data.24h.json\""
   ]
  },
  {
   "cell_type": "code",
   "execution_count": 4,
   "metadata": {},
   "outputs": [],
   "source": [
    "r = requests.get(URL_24h).json()\n",
    "df_geo = pd.DataFrame(r)\n",
    "df_geo_location=df_geo.location.apply(pd.Series).add_prefix('location_')\n",
    "df_geo = pd.concat([df_geo,df_geo_location],axis=1)"
   ]
  },
  {
   "cell_type": "markdown",
   "metadata": {},
   "source": [
    "## Define the sensors geo boundaries (Berlin & Brandenburg)"
   ]
  },
  {
   "cell_type": "code",
   "execution_count": 5,
   "metadata": {},
   "outputs": [],
   "source": [
    "bbox = [11.074219,51.282535,15.227051,53.651150]\n",
    "df_geo.location_longitude = df_geo.location_longitude.astype(float)\n",
    "df_geo.location_latitude = df_geo.location_latitude.astype(float)\n",
    "df_geo_BB = df_geo[(df_geo.location_longitude>bbox[0]) &(df_geo.location_longitude<bbox[2])&(df_geo.location_latitude>bbox[1]) &(df_geo.location_latitude<bbox[3]) ]"
   ]
  },
  {
   "cell_type": "code",
   "execution_count": 6,
   "metadata": {},
   "outputs": [],
   "source": [
    "df_sensor_type = df_geo_BB.sensor.apply(pd.Series).sensor_type.apply(pd.Series).add_prefix('sensor_type_')\n",
    "df_sensor_id = df_geo_BB.sensor.apply(pd.Series)[['id']].add_prefix('sensor_')"
   ]
  },
  {
   "cell_type": "code",
   "execution_count": 7,
   "metadata": {},
   "outputs": [],
   "source": [
    "df_geo_BB = pd.concat([df_geo_BB,df_sensor_id,df_sensor_type],axis=1)"
   ]
  },
  {
   "cell_type": "code",
   "execution_count": 8,
   "metadata": {},
   "outputs": [],
   "source": [
    "df_geo_BB.drop(['location','sensor','sensordatavalues'],axis=1,inplace=True)"
   ]
  },
  {
   "cell_type": "code",
   "execution_count": 9,
   "metadata": {},
   "outputs": [
    {
     "data": {
      "text/html": [
       "<div>\n",
       "<style scoped>\n",
       "    .dataframe tbody tr th:only-of-type {\n",
       "        vertical-align: middle;\n",
       "    }\n",
       "\n",
       "    .dataframe tbody tr th {\n",
       "        vertical-align: top;\n",
       "    }\n",
       "\n",
       "    .dataframe thead th {\n",
       "        text-align: right;\n",
       "    }\n",
       "</style>\n",
       "<table border=\"1\" class=\"dataframe\">\n",
       "  <thead>\n",
       "    <tr style=\"text-align: right;\">\n",
       "      <th></th>\n",
       "      <th>id</th>\n",
       "      <th>sampling_rate</th>\n",
       "      <th>timestamp</th>\n",
       "      <th>location_id</th>\n",
       "      <th>location_latitude</th>\n",
       "      <th>location_longitude</th>\n",
       "      <th>location_altitude</th>\n",
       "      <th>location_country</th>\n",
       "      <th>location_exact_location</th>\n",
       "      <th>location_indoor</th>\n",
       "      <th>sensor_id</th>\n",
       "      <th>sensor_type_id</th>\n",
       "      <th>sensor_type_name</th>\n",
       "      <th>sensor_type_manufacturer</th>\n",
       "    </tr>\n",
       "  </thead>\n",
       "  <tbody>\n",
       "    <tr>\n",
       "      <th>68</th>\n",
       "      <td>4028026044</td>\n",
       "      <td>None</td>\n",
       "      <td>2019-06-25 05:38:19</td>\n",
       "      <td>125</td>\n",
       "      <td>52.516</td>\n",
       "      <td>13.426</td>\n",
       "      <td>37.0</td>\n",
       "      <td>DE</td>\n",
       "      <td>0</td>\n",
       "      <td>0</td>\n",
       "      <td>283</td>\n",
       "      <td>14</td>\n",
       "      <td>SDS011</td>\n",
       "      <td>Nova Fitness</td>\n",
       "    </tr>\n",
       "    <tr>\n",
       "      <th>94</th>\n",
       "      <td>4028028593</td>\n",
       "      <td>None</td>\n",
       "      <td>2019-06-25 05:38:53</td>\n",
       "      <td>150</td>\n",
       "      <td>52.352</td>\n",
       "      <td>14.058</td>\n",
       "      <td>41.4</td>\n",
       "      <td>DE</td>\n",
       "      <td>0</td>\n",
       "      <td>0</td>\n",
       "      <td>325</td>\n",
       "      <td>14</td>\n",
       "      <td>SDS011</td>\n",
       "      <td>Nova Fitness</td>\n",
       "    </tr>\n",
       "    <tr>\n",
       "      <th>95</th>\n",
       "      <td>4028028715</td>\n",
       "      <td>None</td>\n",
       "      <td>2019-06-25 05:38:54</td>\n",
       "      <td>150</td>\n",
       "      <td>52.352</td>\n",
       "      <td>14.058</td>\n",
       "      <td>41.4</td>\n",
       "      <td>DE</td>\n",
       "      <td>0</td>\n",
       "      <td>0</td>\n",
       "      <td>326</td>\n",
       "      <td>9</td>\n",
       "      <td>DHT22</td>\n",
       "      <td>various</td>\n",
       "    </tr>\n",
       "    <tr>\n",
       "      <th>96</th>\n",
       "      <td>4028040177</td>\n",
       "      <td>None</td>\n",
       "      <td>2019-06-25 05:40:17</td>\n",
       "      <td>5879</td>\n",
       "      <td>52.534</td>\n",
       "      <td>13.350</td>\n",
       "      <td>38.1</td>\n",
       "      <td>DE</td>\n",
       "      <td>0</td>\n",
       "      <td>0</td>\n",
       "      <td>327</td>\n",
       "      <td>14</td>\n",
       "      <td>SDS011</td>\n",
       "      <td>Nova Fitness</td>\n",
       "    </tr>\n",
       "    <tr>\n",
       "      <th>97</th>\n",
       "      <td>4028040250</td>\n",
       "      <td>None</td>\n",
       "      <td>2019-06-25 05:40:17</td>\n",
       "      <td>5879</td>\n",
       "      <td>52.534</td>\n",
       "      <td>13.350</td>\n",
       "      <td>38.1</td>\n",
       "      <td>DE</td>\n",
       "      <td>0</td>\n",
       "      <td>0</td>\n",
       "      <td>328</td>\n",
       "      <td>9</td>\n",
       "      <td>DHT22</td>\n",
       "      <td>various</td>\n",
       "    </tr>\n",
       "  </tbody>\n",
       "</table>\n",
       "</div>"
      ],
      "text/plain": [
       "            id sampling_rate            timestamp  location_id  \\\n",
       "68  4028026044          None  2019-06-25 05:38:19          125   \n",
       "94  4028028593          None  2019-06-25 05:38:53          150   \n",
       "95  4028028715          None  2019-06-25 05:38:54          150   \n",
       "96  4028040177          None  2019-06-25 05:40:17         5879   \n",
       "97  4028040250          None  2019-06-25 05:40:17         5879   \n",
       "\n",
       "    location_latitude  location_longitude location_altitude location_country  \\\n",
       "68             52.516              13.426              37.0               DE   \n",
       "94             52.352              14.058              41.4               DE   \n",
       "95             52.352              14.058              41.4               DE   \n",
       "96             52.534              13.350              38.1               DE   \n",
       "97             52.534              13.350              38.1               DE   \n",
       "\n",
       "    location_exact_location  location_indoor  sensor_id  sensor_type_id  \\\n",
       "68                        0                0        283              14   \n",
       "94                        0                0        325              14   \n",
       "95                        0                0        326               9   \n",
       "96                        0                0        327              14   \n",
       "97                        0                0        328               9   \n",
       "\n",
       "   sensor_type_name sensor_type_manufacturer  \n",
       "68           SDS011             Nova Fitness  \n",
       "94           SDS011             Nova Fitness  \n",
       "95            DHT22                  various  \n",
       "96           SDS011             Nova Fitness  \n",
       "97            DHT22                  various  "
      ]
     },
     "execution_count": 9,
     "metadata": {},
     "output_type": "execute_result"
    }
   ],
   "source": [
    "df_geo_BB.head()"
   ]
  },
  {
   "cell_type": "code",
   "execution_count": 10,
   "metadata": {},
   "outputs": [],
   "source": [
    "df_geo_BB.to_sql(name='sensors_BB', con=engine,if_exists='replace')"
   ]
  }
 ],
 "metadata": {
  "kernelspec": {
   "display_name": "Python 3",
   "language": "python",
   "name": "python3"
  },
  "language_info": {
   "codemirror_mode": {
    "name": "ipython",
    "version": 3
   },
   "file_extension": ".py",
   "mimetype": "text/x-python",
   "name": "python",
   "nbconvert_exporter": "python",
   "pygments_lexer": "ipython3",
   "version": "3.7.1"
  }
 },
 "nbformat": 4,
 "nbformat_minor": 2
}
