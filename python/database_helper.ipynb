{
 "cells": [
  {
   "cell_type": "code",
   "execution_count": 1,
   "metadata": {},
   "outputs": [],
   "source": [
    "import pandas as pd\n",
    "\n",
    "import sqlalchemy\n",
    "import config"
   ]
  },
  {
   "cell_type": "code",
   "execution_count": 5,
   "metadata": {},
   "outputs": [],
   "source": [
    "engine_new = sqlalchemy.create_engine(\"sqlite:///../data/luftdaten_dwd.db\")\n",
    "engine_old = sqlalchemy.create_engine(\"sqlite:///../data/dwd.db\")"
   ]
  },
  {
   "cell_type": "code",
   "execution_count": 12,
   "metadata": {},
   "outputs": [
    {
     "name": "stdout",
     "output_type": "stream",
     "text": [
      "stations\n",
      "data_CO\n",
      "data_NO2\n",
      "data_O3\n",
      "data_PM10\n",
      "data_SO2\n",
      "data_CO_1TMW\n",
      "data_NO2_1TMW\n",
      "sensors_BB\n"
     ]
    }
   ],
   "source": [
    "res = engine_old.execute(\"SELECT name FROM sqlite_master WHERE type='table';\")\n",
    "for table in res:\n",
    "    if table[0]!='sensors_BB_data':\n",
    "        print(table[0])\n",
    "        df = pd.read_sql(table[0],engine_old)\n",
    "        df.to_sql(name=table[0], con=engine_new,if_exists='replace')\n",
    "    "
   ]
  }
 ],
 "metadata": {
  "kernelspec": {
   "display_name": "Python 3",
   "language": "python",
   "name": "python3"
  },
  "language_info": {
   "codemirror_mode": {
    "name": "ipython",
    "version": 3
   },
   "file_extension": ".py",
   "mimetype": "text/x-python",
   "name": "python",
   "nbconvert_exporter": "python",
   "pygments_lexer": "ipython3",
   "version": "3.7.1"
  }
 },
 "nbformat": 4,
 "nbformat_minor": 2
}
