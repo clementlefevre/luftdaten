{
 "cells": [
  {
   "cell_type": "code",
   "execution_count": 4,
   "metadata": {},
   "outputs": [],
   "source": [
    "import pandas as pd\n",
    "\n",
    "import sqlalchemy\n",
    "import config\n",
    "import glob"
   ]
  },
  {
   "cell_type": "code",
   "execution_count": 5,
   "metadata": {},
   "outputs": [],
   "source": [
    "engine = sqlalchemy.create_engine(\"sqlite:///../data/luftdaten_dwd.db\")"
   ]
  },
  {
   "cell_type": "markdown",
   "metadata": {},
   "source": [
    "\"station_code\" TEXT, \n",
    "\"pollutant\" TEXT,\n",
    "\"datehour\" TEXT, \n",
    "\"value\" BIGINT,\n"
   ]
  },
  {
   "cell_type": "markdown",
   "metadata": {},
   "source": [
    "df_db = pd.read_sql(('select \"station_code\",\"datehour\",\"pollutant\" from \"dwd_data_1H\" '\n",
    "                     'where \"station_code\" LIKE %(s_code)s AND \"datehour\"  LIKE %(dthour)s AND \"pollutant\" LIKE %(pollutant)s ),\n",
    "                   engine,params={\"station_code\":''})"
   ]
  },
  {
   "cell_type": "code",
   "execution_count": 22,
   "metadata": {},
   "outputs": [],
   "source": [
    "all_files = glob.glob('../data/dwd_to_be_inserted/*.csv')"
   ]
  },
  {
   "cell_type": "code",
   "execution_count": 23,
   "metadata": {},
   "outputs": [
    {
     "data": {
      "text/plain": [
       "['../data/dwd_to_be_inserted/dwd_data_1H_2.csv',\n",
       " '../data/dwd_to_be_inserted/dwd_data_1H_0.csv',\n",
       " '../data/dwd_to_be_inserted/dwd_data_1H_6.csv',\n",
       " '../data/dwd_to_be_inserted/dwd_data_1H_5.csv',\n",
       " '../data/dwd_to_be_inserted/dwd_data_1H_4.csv',\n",
       " '../data/dwd_to_be_inserted/dwd_data_1H_1.csv',\n",
       " '../data/dwd_to_be_inserted/dwd_data_1H_3.csv']"
      ]
     },
     "execution_count": 23,
     "metadata": {},
     "output_type": "execute_result"
    }
   ],
   "source": [
    "all_files"
   ]
  },
  {
   "cell_type": "code",
   "execution_count": 31,
   "metadata": {},
   "outputs": [
    {
     "name": "stdout",
     "output_type": "stream",
     "text": [
      "saved ../data/dwd_to_be_inserted/dwd_data_1H_2.csv\n",
      "saved ../data/dwd_to_be_inserted/dwd_data_1H_0.csv\n",
      "saved ../data/dwd_to_be_inserted/dwd_data_1H_6.csv\n",
      "saved ../data/dwd_to_be_inserted/dwd_data_1H_5.csv\n",
      "saved ../data/dwd_to_be_inserted/dwd_data_1H_4.csv\n",
      "saved ../data/dwd_to_be_inserted/dwd_data_1H_1.csv\n",
      "saved ../data/dwd_to_be_inserted/dwd_data_1H_3.csv\n"
     ]
    }
   ],
   "source": [
    "for f in all_files :\n",
    "    df = pd.read_csv(f)\n",
    "    df.pollutant='PM10'\n",
    "    df.to_sql('dwd_data_1H',engine,index=False, if_exists='append')\n",
    "    print(f'saved {f}' )\n"
   ]
  },
  {
   "cell_type": "code",
   "execution_count": 32,
   "metadata": {},
   "outputs": [],
   "source": [
    "engine.dispose()"
   ]
  },
  {
   "cell_type": "code",
   "execution_count": 13,
   "metadata": {},
   "outputs": [],
   "source": [
    "def clean_and_store_dwd_data(pollutant='PM10'):\n",
    "    chunksize = 10**6\n",
    "    i=0\n",
    "    for chunk in pd.read_sql('dwd_data_PM10_1SMW',engine,chunksize=chunksize):\n",
    "        print(f'new chunk loaded : {chunk.shape}')\n",
    "        df = chunk\n",
    "        df= df[['Stationscode', 'Zeit', 'Messwert (in µg/m³)']]\n",
    "        df.columns = ['station_code','datehour','value']\n",
    "        print(df.columns)\n",
    "        df['pollutant']= pollutant\n",
    "        df = df[['station_code', 'pollutant', 'datehour', 'value']]    \n",
    "        df.drop_duplicates(inplace=True) \n",
    "        \n",
    "        print('starting saving df')\n",
    "        df.to_csv(f'dwd_data_1H_{str(i)}.csv',index=False)\n",
    "        i=i+1\n",
    "        #df.to_sql('dwd_data_1H',engine,index=False, if_exists='append')\n",
    "        print('done with saving df')"
   ]
  },
  {
   "cell_type": "code",
   "execution_count": 14,
   "metadata": {},
   "outputs": [
    {
     "name": "stdout",
     "output_type": "stream",
     "text": [
      "new chunk loaded : (1000000, 8)\n",
      "Index(['station_code', 'datehour', 'value'], dtype='object')\n"
     ]
    },
    {
     "name": "stderr",
     "output_type": "stream",
     "text": [
      "/home/ramon/anaconda3/lib/python3.7/site-packages/ipykernel_launcher.py:10: SettingWithCopyWarning: \n",
      "A value is trying to be set on a copy of a slice from a DataFrame.\n",
      "Try using .loc[row_indexer,col_indexer] = value instead\n",
      "\n",
      "See the caveats in the documentation: http://pandas.pydata.org/pandas-docs/stable/indexing.html#indexing-view-versus-copy\n",
      "  # Remove the CWD from sys.path while we load stuff.\n"
     ]
    },
    {
     "name": "stdout",
     "output_type": "stream",
     "text": [
      "starting saving df\n",
      "done with saving df\n",
      "new chunk loaded : (1000000, 8)\n",
      "Index(['station_code', 'datehour', 'value'], dtype='object')\n",
      "starting saving df\n",
      "done with saving df\n",
      "new chunk loaded : (1000000, 8)\n",
      "Index(['station_code', 'datehour', 'value'], dtype='object')\n",
      "starting saving df\n",
      "done with saving df\n",
      "new chunk loaded : (1000000, 8)\n",
      "Index(['station_code', 'datehour', 'value'], dtype='object')\n",
      "starting saving df\n",
      "done with saving df\n",
      "new chunk loaded : (1000000, 8)\n",
      "Index(['station_code', 'datehour', 'value'], dtype='object')\n",
      "starting saving df\n",
      "done with saving df\n",
      "new chunk loaded : (1000000, 8)\n",
      "Index(['station_code', 'datehour', 'value'], dtype='object')\n",
      "starting saving df\n",
      "done with saving df\n",
      "new chunk loaded : (915806, 8)\n",
      "Index(['station_code', 'datehour', 'value'], dtype='object')\n",
      "starting saving df\n",
      "done with saving df\n"
     ]
    }
   ],
   "source": [
    "clean_and_store_dwd_data(engine)"
   ]
  },
  {
   "cell_type": "code",
   "execution_count": 10,
   "metadata": {},
   "outputs": [
    {
     "data": {
      "text/plain": [
       "999999"
      ]
     },
     "execution_count": 10,
     "metadata": {},
     "output_type": "execute_result"
    }
   ],
   "source": [
    "df.index[-1]"
   ]
  },
  {
   "cell_type": "code",
   "execution_count": null,
   "metadata": {},
   "outputs": [],
   "source": [
    "#df.to_sql('dwd_data_1H',engine,index=False, if_exists='append')"
   ]
  },
  {
   "cell_type": "code",
   "execution_count": null,
   "metadata": {},
   "outputs": [],
   "source": []
  },
  {
   "cell_type": "code",
   "execution_count": null,
   "metadata": {},
   "outputs": [],
   "source": [
    "#engine.dispose()"
   ]
  },
  {
   "cell_type": "code",
   "execution_count": null,
   "metadata": {},
   "outputs": [],
   "source": [
    "df_current_db = pd.read_sql('dwd_data_1H',engine)"
   ]
  },
  {
   "cell_type": "code",
   "execution_count": null,
   "metadata": {},
   "outputs": [],
   "source": [
    "df_current_db"
   ]
  }
 ],
 "metadata": {
  "kernelspec": {
   "display_name": "Python 3",
   "language": "python",
   "name": "python3"
  },
  "language_info": {
   "codemirror_mode": {
    "name": "ipython",
    "version": 3
   },
   "file_extension": ".py",
   "mimetype": "text/x-python",
   "name": "python",
   "nbconvert_exporter": "python",
   "pygments_lexer": "ipython3",
   "version": "3.7.1"
  }
 },
 "nbformat": 4,
 "nbformat_minor": 2
}
