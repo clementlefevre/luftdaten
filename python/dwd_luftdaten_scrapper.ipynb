{
 "cells": [
  {
   "cell_type": "markdown",
   "metadata": {},
   "source": [
    "This scripts retrieve the air quality data (\"CO\", \"NO2\", \"O3\", \"PM10\", \"SO2\") from the german environment ministery for all the measurements stations.\n",
    "You can adjust the time **period** parameter :\n",
    "- \"1SMW\" -> hourly average\n",
    "- \"1TMW\" -> daily average"
   ]
  },
  {
   "cell_type": "code",
   "execution_count": null,
   "metadata": {},
   "outputs": [],
   "source": [
    "import time\n",
    "from datetime import datetime\n",
    "from datetime import date\n",
    "import pandas as pd\n",
    "import requests\n",
    "import io\n",
    "from random import randint\n",
    "import config\n",
    "\n",
    "import sqlalchemy\n",
    "%matplotlib inline"
   ]
  },
  {
   "cell_type": "code",
   "execution_count": null,
   "metadata": {},
   "outputs": [],
   "source": [
    "engine = sqlalchemy.create_engine(f\"sqlite:///{config.DB_PATH}\")"
   ]
  },
  {
   "cell_type": "markdown",
   "metadata": {},
   "source": [
    "## set time period"
   ]
  },
  {
   "cell_type": "code",
   "execution_count": null,
   "metadata": {},
   "outputs": [],
   "source": [
    "period = \"1SMW\""
   ]
  },
  {
   "cell_type": "markdown",
   "metadata": {},
   "source": [
    "## get stations list"
   ]
  },
  {
   "cell_type": "code",
   "execution_count": null,
   "metadata": {},
   "outputs": [],
   "source": [
    "def create_stations_list():\n",
    "    stations_limits_url = \"https://www.umweltbundesamt.de/js/uaq/data/stations/limits\"\n",
    "\n",
    "    stations_limits = requests.get(stations_limits_url).json()\n",
    "\n",
    "    df_stations = pd.DataFrame(stations_limits['stations_idx'])\n",
    "\n",
    "    df_stations.columns = ['idx','name','region','region_name','longitude','latitude']\n",
    "\n",
    "    df_stations.set_index('idx',inplace=True)\n",
    "\n",
    "    df_stations.to_sql(name='stations', con=engine,if_exists='replace')"
   ]
  },
  {
   "cell_type": "markdown",
   "metadata": {},
   "source": [
    "## get data"
   ]
  },
  {
   "cell_type": "code",
   "execution_count": null,
   "metadata": {},
   "outputs": [],
   "source": [
    "components_idx= [\"CO\", \"NO2\", \"O3\", \"PM10\", \"SO2\"]\n",
    "df_stations = pd.read_sql_table('stations', engine)\n",
    "\n",
    "# filter on Berlin and Brandenbourg Stations\n",
    "#df_stations = df_stations[df_stations.region.isin(['BE','BB'])]\n",
    "df_stations.shape"
   ]
  },
  {
   "cell_type": "code",
   "execution_count": null,
   "metadata": {},
   "outputs": [],
   "source": [
    "#set timestamp\n",
    "def set_ts(y,m,d):\n",
    "    dt_obj = datetime.strptime(f'{str(d)}.{str(m)}.{str(y)} 07:00:00,00',\n",
    "                               '%d.%m.%Y %H:%M:%S,%f')\n",
    "    millisec = dt_obj.timestamp()# * 1000\n",
    "    return int(millisec)\n",
    "\n",
    "def set_url(station_id,pollutant, ts_from,ts_to,period):\n",
    "    url = f'https://www.umweltbundesamt.de/uaq/csv/stations/data?station[]={station_id}&pollutant[]={pollutant}&scope[]={period}&group[]=station&range[]={ts_from},{ts_to}'\n",
    "    return url\n",
    "\n",
    "def get_station_data(station_id,pollutant,period):\n",
    "    ts_from = set_ts(2016,1,1)\n",
    "    ts_to = set_ts(date.today().year,date.today().month,date.today().day)\n",
    "    url = set_url(station_id,pollutant, ts_from,ts_to,period)\n",
    "    print(url)\n",
    "    s = requests.get(url).text \n",
    "    df_data = pd.read_csv(io.StringIO(s),sep=';')\n",
    "    print(df_data.shape)\n",
    "    return df_data"
   ]
  },
  {
   "cell_type": "code",
   "execution_count": null,
   "metadata": {},
   "outputs": [],
   "source": [
    "def get_data_pollutant(pollutant,period):\n",
    "    df_all_data =pd.DataFrame()\n",
    "\n",
    "    for station_id in df_stations.idx.unique():\n",
    "        try:\n",
    "\n",
    "            data = get_station_data(station_id,pollutant,period)\n",
    "            if data.shape[0]>0:\n",
    "                data.reset_index(inplace=True)\n",
    "                data.set_index('index',inplace=True)\n",
    "                data = data[['Stationscode',\"Zeit\",]]\n",
    "                data.to_sql(name=f'dwd_data_{pollutant}_{period}', con=engine,if_exists='append')\n",
    "            \n",
    "            \n",
    "        except Exception as e:\n",
    "            print(e)   \n",
    "        finally:\n",
    "            time.sleep(.1)#+randint(2,4))\n",
    "    \n",
    "   \n",
    "   \n",
    "    print(f'{pollutant}:{df_all_data.shape}')\n",
    "    "
   ]
  },
  {
   "cell_type": "code",
   "execution_count": null,
   "metadata": {},
   "outputs": [],
   "source": [
    "#for pollutant in components_idx:\n",
    "    #get_data_pollutant(pollutant,period) "
   ]
  },
  {
   "cell_type": "code",
   "execution_count": null,
   "metadata": {},
   "outputs": [],
   "source": [
    "get_data_pollutant('PM10',period)"
   ]
  },
  {
   "cell_type": "code",
   "execution_count": null,
   "metadata": {},
   "outputs": [],
   "source": [
    "res = engine.execute(\"SELECT name FROM sqlite_master WHERE type='table';\")\n",
    "\n",
    "for r in res:\n",
    "    print(r[0])"
   ]
  },
  {
   "cell_type": "code",
   "execution_count": null,
   "metadata": {},
   "outputs": [],
   "source": [
    "data = get_station_data('DETH091','PM10',period)"
   ]
  },
  {
   "cell_type": "code",
   "execution_count": null,
   "metadata": {},
   "outputs": [],
   "source": [
    "data.columns"
   ]
  }
 ],
 "metadata": {
  "kernelspec": {
   "display_name": "Python 3",
   "language": "python",
   "name": "python3"
  },
  "language_info": {
   "codemirror_mode": {
    "name": "ipython",
    "version": 3
   },
   "file_extension": ".py",
   "mimetype": "text/x-python",
   "name": "python",
   "nbconvert_exporter": "python",
   "pygments_lexer": "ipython3",
   "version": "3.7.1"
  }
 },
 "nbformat": 4,
 "nbformat_minor": 2
}
